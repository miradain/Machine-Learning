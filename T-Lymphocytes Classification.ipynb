{
 "cells": [
  {
   "cell_type": "markdown",
   "metadata": {},
   "source": [
    "The goal of this report is to use Machine Learning algorithms to classify the T-Lymphocytes in two groups: T-helper and T-regulatory. To answer to this classification problem, we will follow the classical machine learning framework:\n",
    "\n",
    "- Exploratory data analysis; \n",
    "- Feature selection;\n",
    "- Model selection along with performance assessment;\n",
    "- Choosing the most suitable algorithm."
   ]
  },
  {
   "cell_type": "markdown",
   "metadata": {},
   "source": [
    "## Loading the data"
   ]
  },
  {
   "cell_type": "code",
   "execution_count": 145,
   "metadata": {},
   "outputs": [],
   "source": [
    "# Import the libraries\n",
    "import pandas as pd\n",
    "import numpy as np\n",
    "from pandas import read_csv\n",
    "\n",
    "# Loading the training data\n",
    "train_df = read_csv(\"/Users/miradain/Desktop/Machine_Learning_Q2/ML-A5-2020_train.csv\", index_col=0)"
   ]
  },
  {
   "cell_type": "markdown",
   "metadata": {},
   "source": [
    "## Exploratory data analysis"
   ]
  },
  {
   "cell_type": "markdown",
   "metadata": {},
   "source": [
    "- Getting the infos on the data"
   ]
  },
  {
   "cell_type": "code",
   "execution_count": 128,
   "metadata": {},
   "outputs": [
    {
     "name": "stdout",
     "output_type": "stream",
     "text": [
      "<class 'pandas.core.frame.DataFrame'>\n",
      "Index: 1000 entries, C-1 to C-1000\n",
      "Columns: 23385 entries, A1BG to label\n",
      "dtypes: float64(23371), int64(10), object(4)\n",
      "memory usage: 178.4+ MB\n"
     ]
    }
   ],
   "source": [
    "train_df.info()"
   ]
  },
  {
   "cell_type": "markdown",
   "metadata": {},
   "source": [
    "The data has 1000 users and 23385 features: 8 boolean features, 23371 numerical features, 4 categorical features and 2 integer features (among those, there is the dependent variable 'label')."
   ]
  },
  {
   "cell_type": "markdown",
   "metadata": {},
   "source": [
    "- Checking the group proportions in the dependant variable "
   ]
  },
  {
   "cell_type": "code",
   "execution_count": 184,
   "metadata": {},
   "outputs": [
    {
     "data": {
      "text/plain": [
       "-1    885\n",
       "1     115\n",
       "Name: label, dtype: int64"
      ]
     },
     "execution_count": 184,
     "metadata": {},
     "output_type": "execute_result"
    }
   ],
   "source": [
    "train_df['label'].astype(str).value_counts()"
   ]
  },
  {
   "cell_type": "markdown",
   "metadata": {},
   "source": [
    "We deduce that the data is unbalanced as there are a disproportionate ratio of observations in each class: 11.5% T-reg (+1) and 88.5% T-helper (-1). This suggest that a \"majority vote\" strategy can even do better than a sophisticated model if we use a naive metric. \n",
    "This kind of problem often occurs in machine learning classification and there are many ideas to solve it. Our approach will consist of changing evaluation the metric. Namely, we will consider a weighted average between the sensitivity and the specificity.\n",
    "\n",
    "- Building the performance evaluation metric\n",
    "\n",
    "The metric that we use in this report is the Balanced Classification Rate (BCR) \n",
    "which considers sensitivity and speficity similarly:\n",
    " $$BCR= \\frac{1}{2}( \\frac{TP}{TP+FN} + \\frac{TN}{TN+FP} )$$\n",
    " \n",
    "The above cited \"majority vote\" will give a score BCR $=0.5$ .\n"
   ]
  },
  {
   "cell_type": "code",
   "execution_count": null,
   "metadata": {},
   "outputs": [],
   "source": [
    "from sklearn.metrics import  make_scorer\n",
    "from sklearn.metrics import confusion_matrix\n",
    "\n",
    "def BCR_fun(y_true, y_pred):\n",
    "    Table_Pred_BCR = confusion_matrix(y_true, y_pred)\n",
    "    n1 = Table_Pred_BCR[0,0]+Table_Pred_BCR[1,0]\n",
    "    n2 = Table_Pred_BCR[1,1]+Table_Pred_BCR[0,1]\n",
    "    speficity_pred = Table_Pred_BCR[0,0]/(max(n1,1))\n",
    "    sensitivity_pred = Table_Pred_BCR[1,1]/(max(n2,1))\n",
    "    return 1/2*(speficity_pred + sensitivity_pred)\n",
    "\n",
    "BCR_score = make_scorer(BCR_fun, greater_is_better=False)"
   ]
  },
  {
   "cell_type": "markdown",
   "metadata": {},
   "source": [
    "- Checking the proportion of missing data"
   ]
  },
  {
   "cell_type": "code",
   "execution_count": 189,
   "metadata": {},
   "outputs": [
    {
     "data": {
      "text/plain": [
       "0.03493072611355954"
      ]
     },
     "execution_count": 189,
     "metadata": {},
     "output_type": "execute_result"
    }
   ],
   "source": [
    "sum(train_df.isna().sum())/(23371*1000)\n"
   ]
  },
  {
   "cell_type": "markdown",
   "metadata": {},
   "source": [
    "Thus the data has $\\sim 3.5$% of missing data. \n",
    "\n",
    "- Filling the missing values of numerical features with their respective median"
   ]
  },
  {
   "cell_type": "code",
   "execution_count": 131,
   "metadata": {},
   "outputs": [],
   "source": [
    "# Extract the float64 and int64 part of the data\n",
    "num_train_df= train_df.loc[:,(train_df.dtypes==np.float64) | (train_df.dtypes==np.int64)]\n",
    "\n",
    "X=train_df.fillna(num_train_df.median()).drop('label', axis=1)\n",
    "y=train_df['label']"
   ]
  },
  {
   "cell_type": "markdown",
   "metadata": {},
   "source": [
    "# Feature selection\n",
    "## Numerical feature selection\n",
    "### Removing numerical features with low variance"
   ]
  },
  {
   "cell_type": "code",
   "execution_count": 130,
   "metadata": {},
   "outputs": [],
   "source": [
    "# Extract numerical and integer features\n",
    "X_num_int= X.loc[:, (X.dtypes==np.float64) | (X.dtypes==np.int64)]\n",
    "Covariance_matrix=X_num_int.cov()\n",
    "variances= pd.DataFrame( np.diag(Covariance_matrix), index= Covariance_matrix.index, columns= ['variance'])"
   ]
  },
  {
   "cell_type": "markdown",
   "metadata": {},
   "source": [
    "Before extracting the high variance features, we will make a visualisation to decide about the treshold."
   ]
  },
  {
   "cell_type": "code",
   "execution_count": 132,
   "metadata": {},
   "outputs": [
    {
     "data": {
      "image/png": "[encoded data removed]",
      "text/plain": [
       "<Figure size 432x288 with 1 Axes>"
      ]
     },
     "metadata": {},
     "output_type": "display_data"
    }
   ],
   "source": [
    "import matplotlib.pyplot as plt \n",
    "plt.style.use('ggplot')\n",
    "plt.hist(np.array(variances), 5)\n",
    "plt.ylim(bottom=0, top= 25000)\n",
    "plt.show()"
   ]
  },
  {
   "cell_type": "markdown",
   "metadata": {},
   "source": [
    "We will consider features with variance above 7000. They are 5784."
   ]
  },
  {
   "cell_type": "code",
   "execution_count": 133,
   "metadata": {},
   "outputs": [],
   "source": [
    "Var= variances[variances.variance>=7000]\n",
    "len(Var)\n",
    "Numerical_Features=Var.index.values.tolist()"
   ]
  },
  {
   "cell_type": "markdown",
   "metadata": {},
   "source": [
    "### Recursive feature elimination (RFE) for numeric variables"
   ]
  },
  {
   "cell_type": "code",
   "execution_count": 134,
   "metadata": {},
   "outputs": [],
   "source": [
    "# recursive feature elimination (RFE)\n",
    "from sklearn.feature_selection import RFE\n",
    "from sklearn.svm import SVR\n",
    "estimator = SVR(kernel=\"linear\")\n",
    "selector = RFE(estimator, n_features_to_select=988, step=50)\n",
    "selector = selector.fit(X[Numerical_Features], y)\n",
    "\n",
    "# Indices of features selected\n",
    "ind = np.where(selector.support_)[0]\n",
    "# New selected features\n",
    "Num_Features=[Numerical_Features[i] for i in ind]"
   ]
  },
  {
   "cell_type": "markdown",
   "metadata": {},
   "source": [
    "## Categorical feature selection\n",
    "\n",
    "### Categorical variables\n",
    "\n",
    "- We will encode categorical (object) features to numerical value features.\n",
    "\n",
    "patient: 'Alpha'=0, 'Beta'=1, 'Gamma'= 2, 'Delta'=3, 'Epsilon'=4\n",
    "\n",
    "tissue: 'Periferal blood'=0, 'Tumor-infiltrating'=1, 'Normal'=2\n",
    "\n",
    "level.mito: 'High'=0, 'Normal'=1\n",
    "\n",
    "level.ribo: 'High'=0, 'Normal'=1\n"
   ]
  },
  {
   "cell_type": "code",
   "execution_count": 136,
   "metadata": {},
   "outputs": [],
   "source": [
    "X['patient'], uniques_patient=pd.factorize(X_cat['patient'])\n",
    "X['tissue'], uniques_tissue=pd.factorize(X_cat['tissue'])\n",
    "X['level.mito'], uniques_level_mito=pd.factorize(X_cat['level.mito'])\n",
    "X['level.ribo'], uniques_level_ribo=pd.factorize(X_cat['level.ribo'])"
   ]
  },
  {
   "cell_type": "markdown",
   "metadata": {},
   "source": [
    "- We use the ch2 method to select useful categorical variables\n"
   ]
  },
  {
   "cell_type": "code",
   "execution_count": 137,
   "metadata": {},
   "outputs": [
    {
     "name": "stdout",
     "output_type": "stream",
     "text": [
      "Feature 0: 1.875144\n",
      "Feature 1: 7.912676\n",
      "Feature 2: 0.635834\n",
      "Feature 3: 5.311644\n"
     ]
    },
    {
     "data": {
      "image/png": "[encoded data removed]",
      "text/plain": [
       "<Figure size 432x288 with 1 Axes>"
      ]
     },
     "metadata": {},
     "output_type": "display_data"
    }
   ],
   "source": [
    "cat_features=['patient', 'tissue', 'level.mito', 'level.ribo']\n",
    "X_catt=X[cat_features]\n",
    "\n",
    "from sklearn.feature_selection import SelectKBest, chi2\n",
    "import matplotlib.pyplot as plt \n",
    "\n",
    "fs=SelectKBest(score_func=chi2, k='all')\n",
    "fs.fit(X_catt, y)\n",
    "\n",
    "for i in range(len(fs.scores_)):\n",
    "    print('Feature %d: %f' %(i, fs.scores_[i]))\n",
    "    \n",
    "# Plot the scores\n",
    "plt.bar([i for i in range(len(fs.scores_))], fs.scores_)\n",
    "plt.show()"
   ]
  },
  {
   "cell_type": "markdown",
   "metadata": {},
   "source": [
    "We will then retain from the above computation the categorical features\n",
    "\n",
    "Cat_Features= ['tissue', 'level.ribo']."
   ]
  },
  {
   "cell_type": "markdown",
   "metadata": {},
   "source": [
    "## Boolean features selection\n",
    "\n",
    "- We will encode boolean features to numerical value features: False=0, True=1"
   ]
  },
  {
   "cell_type": "code",
   "execution_count": 150,
   "metadata": {},
   "outputs": [],
   "source": [
    "\n",
    "bool_cat= train_df.loc[:,train_df.dtypes==np.bool].astype(int)"
   ]
  },
  {
   "cell_type": "markdown",
   "metadata": {},
   "source": [
    "-  We use the ch2 method to select useful boolean features.\n",
    "\n",
    "The boolean features of our data set are: low.yield,\tmarker.A,\tmarker.B,\tmarker.C,\tmarker.D,\tmarker.E,\tmarker.F,\tmarker.G  ."
   ]
  },
  {
   "cell_type": "code",
   "execution_count": 147,
   "metadata": {},
   "outputs": [
    {
     "name": "stdout",
     "output_type": "stream",
     "text": [
      "Feature 0: 9.597669\n",
      "Feature 1: 0.101460\n",
      "Feature 2: 0.705304\n",
      "Feature 3: 16.425240\n",
      "Feature 4: 0.133561\n",
      "Feature 5: 0.000063\n",
      "Feature 6: 1.619419\n",
      "Feature 7: 0.276285\n"
     ]
    },
    {
     "data": {
      "image/png": "[encoded data removed]",
      "text/plain": [
       "<Figure size 432x288 with 1 Axes>"
      ]
     },
     "metadata": {},
     "output_type": "display_data"
    }
   ],
   "source": [
    "from sklearn.feature_selection import SelectKBest, chi2\n",
    "import matplotlib.pyplot as plt \n",
    "\n",
    "fs=SelectKBest(score_func=chi2, k='all')\n",
    "fs.fit(bool_cat, y)\n",
    "\n",
    "for i in range(len(fs.scores_)):\n",
    "    print('Feature %d: %f' %(i, fs.scores_[i]))\n",
    "    \n",
    "# Plot the scores\n",
    "plt.bar([i for i in range(len(fs.scores_))], fs.scores_)\n",
    "plt.show()"
   ]
  },
  {
   "cell_type": "markdown",
   "metadata": {},
   "source": [
    "We will then retain from the above computation the categorical features\n",
    "\n",
    "bool_Features= ['low.yield', 'marker.C']."
   ]
  },
  {
   "cell_type": "markdown",
   "metadata": {},
   "source": [
    "## Automating feature selection for a new input data\n",
    "\n",
    "The data to consider after this process is the combination of the numerical, categorical and boolean selected features."
   ]
  },
  {
   "cell_type": "code",
   "execution_count": 151,
   "metadata": {},
   "outputs": [
    {
     "name": "stderr",
     "output_type": "stream",
     "text": [
      "/Users/miradain/anaconda3/lib/python3.7/site-packages/pandas/core/indexing.py:966: SettingWithCopyWarning: \n",
      "A value is trying to be set on a copy of a slice from a DataFrame.\n",
      "Try using .loc[row_indexer,col_indexer] = value instead\n",
      "\n",
      "See the caveats in the documentation: https://pandas.pydata.org/pandas-docs/stable/user_guide/indexing.html#returning-a-view-versus-a-copy\n",
      "  self.obj[item] = s\n",
      "/Users/miradain/anaconda3/lib/python3.7/site-packages/ipykernel_launcher.py:8: SettingWithCopyWarning: \n",
      "A value is trying to be set on a copy of a slice from a DataFrame.\n",
      "Try using .loc[row_indexer,col_indexer] = value instead\n",
      "\n",
      "See the caveats in the documentation: https://pandas.pydata.org/pandas-docs/stable/user_guide/indexing.html#returning-a-view-versus-a-copy\n",
      "  \n",
      "/Users/miradain/anaconda3/lib/python3.7/site-packages/ipykernel_launcher.py:9: SettingWithCopyWarning: \n",
      "A value is trying to be set on a copy of a slice from a DataFrame.\n",
      "Try using .loc[row_indexer,col_indexer] = value instead\n",
      "\n",
      "See the caveats in the documentation: https://pandas.pydata.org/pandas-docs/stable/user_guide/indexing.html#returning-a-view-versus-a-copy\n",
      "  if __name__ == '__main__':\n"
     ]
    }
   ],
   "source": [
    "Features= ['low.yield', 'marker.C']+['tissue', 'level.ribo']+Numerical_Features\n",
    "\n",
    "def transformed_data(data):\n",
    "    New_data=data[Features]\n",
    "    # Encode boolean features into numeric\n",
    "    New_data.loc[:,New_data.dtypes==np.bool]= New_data.loc[:,New_data.dtypes==np.bool].astype(int)\n",
    "    # Encode categorical features into numeric\n",
    "    New_data['tissue'], uniques_tissue=pd.factorize(New_data['tissue'])\n",
    "    New_data['level.ribo'], uniques_level_ribo=pd.factorize(New_data['level.ribo'])\n",
    "    # Fill missing values with column median\n",
    "    num_data= New_data.loc[:,(New_data.dtypes==np.float64) | (New_data.dtypes==np.int64)]\n",
    "    New_data.loc[:,(New_data.dtypes==np.float64) | (New_data.dtypes==np.int64)]=num_data.fillna(num_data.median())\n",
    "    return New_data\n",
    "    \n",
    "\n",
    "    \n",
    "X= transformed_data(train_df)\n",
    "y=train_df['label']  \n"
   ]
  },
  {
   "cell_type": "markdown",
   "metadata": {},
   "source": [
    "# Model selection"
   ]
  },
  {
   "cell_type": "markdown",
   "metadata": {},
   "source": [
    "\n",
    "\n",
    "## Random Forest model\n",
    "- Tuning the model to find the best parameters"
   ]
  },
  {
   "cell_type": "code",
   "execution_count": 153,
   "metadata": {},
   "outputs": [
    {
     "name": "stdout",
     "output_type": "stream",
     "text": [
      "{'bootstrap': False, 'max_depth': 6, 'max_features': 0.7, 'n_estimators': 500}\n"
     ]
    }
   ],
   "source": [
    "from sklearn.ensemble import RandomForestClassifier\n",
    "from sklearn.model_selection import GridSearchCV\n",
    "clf = RandomForestClassifier(max_depth=1, random_state=0)\n",
    "\n",
    "param_grid = {\n",
    "    'n_estimators': [200,300,500],\n",
    "    'max_features': [.5,.7],\n",
    "    'bootstrap': [False, True],\n",
    "    'max_depth':[3,6]\n",
    "}\n",
    "\n",
    "model_rf = GridSearchCV(estimator=clf, param_grid=param_grid,\n",
    "                     scoring=BCR_score, cv=5)\n",
    "\n",
    "model_rf.fit(X, y)\n",
    "print(model_rf.best_params_)"
   ]
  },
  {
   "cell_type": "markdown",
   "metadata": {},
   "source": [
    "- Building the random forest model"
   ]
  },
  {
   "cell_type": "code",
   "execution_count": 155,
   "metadata": {},
   "outputs": [],
   "source": [
    "from sklearn.model_selection import cross_val_score\n",
    "\n",
    "# Building the model\n",
    "rf_clf = RandomForestClassifier(max_depth=6, max_features= 0.7, random_state=0, bootstrap=False, n_estimators= 500)\n",
    "\n",
    "# Get the score of the above built model\n",
    "rf_score= cross_val_score(rf_clf, X, y, cv=10, scoring= BCR_score)"
   ]
  },
  {
   "cell_type": "markdown",
   "metadata": {},
   "source": [
    "## Support vector machine model\n",
    "- Tuning the model to find the best parameters"
   ]
  },
  {
   "cell_type": "code",
   "execution_count": 157,
   "metadata": {},
   "outputs": [
    {
     "name": "stdout",
     "output_type": "stream",
     "text": [
      "{'C': 5, 'gamma': 'scale', 'kernel': 'poly'}\n"
     ]
    }
   ],
   "source": [
    "from sklearn.model_selection import GridSearchCV\n",
    "from sklearn.svm import SVC\n",
    "\n",
    "param_grid = {\n",
    "    'kernel': ['poly', 'rbf', 'sigmoid'],\n",
    "    'gamma': ['scale', 'auto'],\n",
    "    'C': [5, 1,2,3, 0.001, 0.01, .1, 10, 100]\n",
    "}\n",
    "\n",
    "model_svm = GridSearchCV(estimator=SVC(), param_grid=param_grid,\n",
    "                     scoring=BCR_score, cv=5)\n",
    "\n",
    "model_svm.fit(X, y)\n",
    "print(model_svm.best_params_)"
   ]
  },
  {
   "cell_type": "markdown",
   "metadata": {},
   "source": [
    "- Building the SVM model"
   ]
  },
  {
   "cell_type": "code",
   "execution_count": 158,
   "metadata": {},
   "outputs": [],
   "source": [
    "# Building the model\n",
    "svm_clf = SVC(C=5, gamma= 'scale', kernel='poly')\n",
    "\n",
    "# Get the score of the above built model\n",
    "svm_score= cross_val_score(svm_clf, X, y, cv=10, scoring= BCR_score)"
   ]
  },
  {
   "cell_type": "markdown",
   "metadata": {},
   "source": [
    "## KNN model\n",
    "- Tuning the model to find the best parameters"
   ]
  },
  {
   "cell_type": "code",
   "execution_count": 165,
   "metadata": {},
   "outputs": [
    {
     "name": "stdout",
     "output_type": "stream",
     "text": [
      "{'n_neighbors': 10, 'weights': 'uniform'}\n"
     ]
    }
   ],
   "source": [
    "from sklearn.neighbors import KNeighborsClassifier\n",
    "\n",
    "param_grid = {\n",
    "    'n_neighbors': [2,3,4,5,10,20],\n",
    "    'weights': ['uniform', 'distance'],\n",
    "}\n",
    "\n",
    "model_knn = GridSearchCV(estimator=KNeighborsClassifier(), param_grid=param_grid,\n",
    "                     scoring=BCR_score, cv=5)\n",
    "model_knn.fit(X, y)\n",
    "print(model_knn.best_params_)"
   ]
  },
  {
   "cell_type": "markdown",
   "metadata": {},
   "source": [
    "- Building the KNN model"
   ]
  },
  {
   "cell_type": "code",
   "execution_count": 168,
   "metadata": {},
   "outputs": [],
   "source": [
    "# Building the model\n",
    "knn_clf = KNeighborsClassifier(n_neighbors=10, weights= 'uniform' )\n",
    "\n",
    "# Getting the score of the above built model\n",
    "knn_score = cross_val_score(knn_clf, X, y, cv=10, scoring= BCR_score)"
   ]
  },
  {
   "cell_type": "markdown",
   "metadata": {},
   "source": [
    "## Gradient Boosting model\n",
    "- Tuning the model to find the best parameters"
   ]
  },
  {
   "cell_type": "code",
   "execution_count": 170,
   "metadata": {},
   "outputs": [
    {
     "name": "stdout",
     "output_type": "stream",
     "text": [
      "{'loss': 'deviance', 'max_depth': 6, 'max_features': 'log2', 'n_estimators': 100}\n"
     ]
    }
   ],
   "source": [
    "from sklearn.ensemble import GradientBoostingClassifier\n",
    "\n",
    "param_grid = {\n",
    "    'loss': ['deviance', 'exponential'],\n",
    "    'n_estimators': [100,200,400],\n",
    "    'max_features': ['auto', 'sqrt', 'log2'],\n",
    "    'max_depth': [1,3,6]\n",
    "}\n",
    "\n",
    "\n",
    "\n",
    "model_GB = GridSearchCV(estimator=GradientBoostingClassifier(random_state=0), param_grid=param_grid,\n",
    "                     scoring=BCR_score, cv=5)\n",
    "model_GB.fit(X, y)\n",
    "print(model_GB.best_params_)"
   ]
  },
  {
   "cell_type": "markdown",
   "metadata": {},
   "source": [
    "- Building the Gradient Boosting model"
   ]
  },
  {
   "cell_type": "code",
   "execution_count": 171,
   "metadata": {},
   "outputs": [],
   "source": [
    "# Building the model\n",
    "gb_clf = GradientBoostingClassifier(random_state=0, loss= 'exponential', max_depth= 6,max_features='log2', n_estimators= 100 )\n",
    "\n",
    "# Getting the score of the above built model \n",
    "gb_score= cross_val_score(gb_clf, X, y, cv=10, scoring= BCR_score)"
   ]
  },
  {
   "cell_type": "markdown",
   "metadata": {},
   "source": [
    "# Algorithms performance assessment\n",
    "\n",
    "Now that we have built a couple of algorithms, we will now select the one that is suitable for our data."
   ]
  },
  {
   "cell_type": "code",
   "execution_count": 173,
   "metadata": {},
   "outputs": [
    {
     "name": "stdout",
     "output_type": "stream",
     "text": [
      "      Random_Forest     SVM     KNN  Gradient_Boosting\n",
      "0         -0.671275 -0.4450 -0.4450          -0.445000\n",
      "1         -0.824885 -0.4450 -0.4450          -0.444444\n",
      "2         -0.644022 -0.4450 -0.4450          -0.954082\n",
      "3         -0.716667 -0.4450 -0.4450          -0.445000\n",
      "4         -0.685216 -0.4450 -0.4450          -0.949495\n",
      "5         -0.678266 -0.4400 -0.4400          -0.440000\n",
      "6         -0.647368 -0.4400 -0.4400          -0.944444\n",
      "7         -0.896313 -0.4400 -0.4400          -0.944444\n",
      "8         -0.742704 -0.4400 -0.4400          -0.944444\n",
      "9         -0.910326 -0.4400 -0.4400          -0.944444\n",
      "mean      -0.741704 -0.4425 -0.4425          -0.745580\n"
     ]
    }
   ],
   "source": [
    "Score= pd.DataFrame()\n",
    "Score['Random_Forest']=rf_score\n",
    "Score['SVM']=svm_score\n",
    "Score['KNN']=knn_score\n",
    "Score['Gradient_Boosting']=gb_score\n",
    "Score.loc['mean']=Score.mean()\n",
    "print(Score)"
   ]
  },
  {
   "cell_type": "markdown",
   "metadata": {},
   "source": [
    "We deduce from this plot that the best algorithm is Gradient Boosting with an expected BCR score  $\\sim 0.75$ . On the other hand, the SVM and KNN algorithms perform poorly."
   ]
  },
  {
   "cell_type": "markdown",
   "metadata": {},
   "source": [
    "# Prediction\n",
    "\n",
    "Now that we have an algorithm that suit the best with the data, we can now make the prediction for new users.\n"
   ]
  },
  {
   "cell_type": "code",
   "execution_count": 194,
   "metadata": {},
   "outputs": [
    {
     "name": "stderr",
     "output_type": "stream",
     "text": [
      "/Users/miradain/anaconda3/lib/python3.7/site-packages/pandas/core/indexing.py:966: SettingWithCopyWarning: \n",
      "A value is trying to be set on a copy of a slice from a DataFrame.\n",
      "Try using .loc[row_indexer,col_indexer] = value instead\n",
      "\n",
      "See the caveats in the documentation: https://pandas.pydata.org/pandas-docs/stable/user_guide/indexing.html#returning-a-view-versus-a-copy\n",
      "  self.obj[item] = s\n",
      "/Users/miradain/anaconda3/lib/python3.7/site-packages/ipykernel_launcher.py:8: SettingWithCopyWarning: \n",
      "A value is trying to be set on a copy of a slice from a DataFrame.\n",
      "Try using .loc[row_indexer,col_indexer] = value instead\n",
      "\n",
      "See the caveats in the documentation: https://pandas.pydata.org/pandas-docs/stable/user_guide/indexing.html#returning-a-view-versus-a-copy\n",
      "  \n",
      "/Users/miradain/anaconda3/lib/python3.7/site-packages/ipykernel_launcher.py:9: SettingWithCopyWarning: \n",
      "A value is trying to be set on a copy of a slice from a DataFrame.\n",
      "Try using .loc[row_indexer,col_indexer] = value instead\n",
      "\n",
      "See the caveats in the documentation: https://pandas.pydata.org/pandas-docs/stable/user_guide/indexing.html#returning-a-view-versus-a-copy\n",
      "  if __name__ == '__main__':\n"
     ]
    }
   ],
   "source": [
    "# Loading the data\n",
    "test_df=read_csv(\"/Users/miradain/Desktop/Machine_Learning_Q2/ML-A5-2020_test.csv\", index_col=0)\n",
    "\n",
    "# Get the transformed data from the feature selection analysis \n",
    "test_data= transformed_data(test_df)\n",
    "\n",
    "# Train and make the prediction\n",
    "gb_clf.fit(X,y)\n",
    "y_pred = pd.DataFrame(gb_clf.predict(test_data))\n",
    "\n",
    "# Save the prediction in csv file\n",
    "y_pred.to_csv(\"/Users/miradain/Desktop/Machine_Learning_Q2/pred.csv\", index = False)"
   ]
  },
  {
   "cell_type": "markdown",
   "metadata": {},
   "source": [
    "Here below is the distribution of the predicted values"
   ]
  },
  {
   "cell_type": "code",
   "execution_count": 215,
   "metadata": {},
   "outputs": [
    {
     "data": {
      "text/plain": [
       "-1    499\n",
       "1       1\n",
       "Name: 0, dtype: int64"
      ]
     },
     "execution_count": 215,
     "metadata": {},
     "output_type": "execute_result"
    }
   ],
   "source": [
    "y_pred[0].astype(str).value_counts()"
   ]
  },
  {
   "cell_type": "markdown",
   "metadata": {},
   "source": [
    "Our algorithm tends to classify almost all of the T-cell as T-helper.  \n",
    "\n",
    "# Conclusion"
   ]
  },
  {
   "cell_type": "markdown",
   "metadata": {},
   "source": [
    "The goal of this repport was to solve a machine learning classification problem. The data set had too many features (more than 23000), thefore one of the challenges part of this research was to extract the best ones suitable to deploy our model. The data was also unbalanced, so we change the evaluation metric to tacle this issue. The best model turned out to the Gradient Boosting with an expected score of 0.75 .The SVM and KNN models perform poorly and are even bad than the canonical \"majority vote\" strategy.\n",
    "\n",
    "Possiple suggestion: Explore more alternative wrapper method for feature selection such as Lasso.  "
   ]
  },
  {
   "cell_type": "code",
   "execution_count": null,
   "metadata": {},
   "outputs": [],
   "source": []
  }
 ],
 "metadata": {
  "kernelspec": {
   "display_name": "Python 3",
   "language": "python",
   "name": "python3"
  },
  "language_info": {
   "codemirror_mode": {
    "name": "ipython",
    "version": 3
   },
   "file_extension": ".py",
   "mimetype": "text/x-python",
   "name": "python",
   "nbconvert_exporter": "python",
   "pygments_lexer": "ipython3",
   "version": "3.7.3"
  }
 },
 "nbformat": 4,
 "nbformat_minor": 4
}
